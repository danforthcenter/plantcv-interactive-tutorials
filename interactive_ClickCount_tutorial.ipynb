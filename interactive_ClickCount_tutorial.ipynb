{
 "cells": [
  {
   "cell_type": "markdown",
   "id": "85da40a7",
   "metadata": {},
   "source": [
    "# Interactive Seed Counting Workflow "
   ]
  },
  {
   "cell_type": "markdown",
   "id": "e1ae202d",
   "metadata": {},
   "source": [
    "## Part 1: Workflow setup"
   ]
  },
  {
   "cell_type": "code",
   "execution_count": null,
   "id": "0035bf9f",
   "metadata": {},
   "outputs": [],
   "source": [
    "# Import plantcv \n",
    "from plantcv import plantcv as pcv\n",
    "# Set the debugging parameter to plot \n",
    "pcv.params.debug = \"plot\""
   ]
  },
  {
   "cell_type": "code",
   "execution_count": null,
   "id": "6357aed1",
   "metadata": {},
   "outputs": [],
   "source": [
    "# Set the notebook display method\n",
    "# inline = embedded plots, widget = interactive plots\n",
    "%matplotlib inline"
   ]
  },
  {
   "cell_type": "code",
   "execution_count": null,
   "id": "5f751058",
   "metadata": {},
   "outputs": [],
   "source": [
    "# Updated text params so that labels are readable \n",
    "pcv.params.text_size = 50\n",
    "pcv.params.text_thickness = 35"
   ]
  },
  {
   "cell_type": "code",
   "execution_count": null,
   "id": "608af1d0",
   "metadata": {},
   "outputs": [],
   "source": [
    "# Change plot size to be larger to better see each colorspace \n",
    "import matplotlib\n",
    "matplotlib.rcParams[\"figure.figsize\"] = [8,8]"
   ]
  },
  {
   "cell_type": "code",
   "execution_count": null,
   "id": "701e5ad7",
   "metadata": {},
   "outputs": [],
   "source": [
    "# Read image\n",
    "\n",
    "# Inputs:\n",
    "#   filename - Image file to be read in \n",
    "#   mode - How to read in the image; either 'native' (default), 'rgb', 'gray', or 'csv'\n",
    "img, path, filename = pcv.readimage(filename=\"imgs/camelina_seeds.jpg\")\n"
   ]
  },
  {
   "cell_type": "markdown",
   "id": "524a1731",
   "metadata": {},
   "source": [
    "## Part 1: Create seed mask "
   ]
  },
  {
   "cell_type": "markdown",
   "id": "27b72d0e",
   "metadata": {},
   "source": [
    "#### Visualize colorspaces\n",
    "\n",
    "The visualization tool converts the color image into HSV and LAB colorspaces and displays the grayscale channels in a matrix so that they can be visualized simultaneously. The idea is to select a channel that maximizes the difference between the plant and the background pixels."
   ]
  },
  {
   "cell_type": "code",
   "execution_count": null,
   "id": "02eef9f4",
   "metadata": {},
   "outputs": [],
   "source": [
    "# Visualize all colorspaces to help determine a thresholding channel \n",
    "# Inputs:\n",
    "#   rbg_img      = original image\n",
    "#   original_img = whether to include the original RGB images in the display: True (default) or False\n",
    "colorspaces = pcv.visualize.colorspaces(img)"
   ]
  },
  {
   "cell_type": "markdown",
   "id": "2b6e4757",
   "metadata": {},
   "source": [
    "#### Convert the color image to grayscale\n",
    "\n",
    "Converts the input color image into the LAB colorspace and returns the l (lightness) channel as a grayscale image."
   ]
  },
  {
   "cell_type": "code",
   "execution_count": null,
   "id": "6901d849",
   "metadata": {},
   "outputs": [],
   "source": [
    "# Inputs:\n",
    "#   rbg_img - original image\n",
    "#   channel - desired colorspace ('l', 'a', or 'b')\n",
    "l = pcv.rgb2gray_lab(rgb_img=img, channel=\"l\")"
   ]
  },
  {
   "cell_type": "code",
   "execution_count": null,
   "id": "093ad638",
   "metadata": {},
   "outputs": [],
   "source": [
    "# Inputs:\n",
    "#   img         = gray image in selected colorspace\n",
    "#   mask        = None (default), or mask\n",
    "#   bins        = 100 (default) or number of desired number of evenly spaced bins\n",
    "#   lower-bound = None (default) or minimum value on x-axis\n",
    "#   upper-bound = None (default) or maximum value on x-axis\n",
    "#   title       = None (default) or custom plot title\n",
    "#   hist_data   = False (default) or True (if frequency distribution data is desired)\n",
    "hist = pcv.visualize.histogram(img=l)"
   ]
  },
  {
   "cell_type": "markdown",
   "id": "10f42d20",
   "metadata": {},
   "source": [
    "#### Threshold the grayscale image\n",
    "\n",
    "Use a threshold function (binary in this case) to segment the grayscale image into plant (white) and background (black) pixels. Using the histogram above, a threshold point between 120-125 will segment the plant and background peaks. Because the plant has darker pixels in this image, use object_type=\"dark\" to do a traditional threshold."
   ]
  },
  {
   "cell_type": "code",
   "execution_count": null,
   "id": "4660e650",
   "metadata": {},
   "outputs": [],
   "source": [
    "l_thresh = pcv.threshold.binary(gray_img=l, threshold=120, max_value=255, object_type=\"dark\")"
   ]
  },
  {
   "cell_type": "markdown",
   "id": "ef9223c7",
   "metadata": {},
   "source": [
    "#### Identify objects within image\n",
    "\n",
    "From the binary mask, we can identify the object (plant) within the image, which can then be used later for analyses."
   ]
  },
  {
   "cell_type": "code",
   "execution_count": null,
   "id": "c6fb7636",
   "metadata": {},
   "outputs": [],
   "source": [
    "# Inputs:\n",
    "#   img  = rgb image\n",
    "#   mask = binary mask\n",
    "plant_obj, plant_hier = pcv.find_objects(img=img, mask=l_thresh)"
   ]
  },
  {
   "cell_type": "markdown",
   "id": "87aaa409",
   "metadata": {},
   "source": [
    "#### Identify objects within a region of interest (ROI)\n",
    "To eventually combine all of the objects into a singular object that identifies the plant, we need to identify a region of interest (ROI) which will either fully encapsulate or overlap with plant material. This way, if objects are identified due to \"salt\" noise or other background elements, they will be filtered out. In this case, a rectangular ROI that partially overlaps with the plant object can be used to filter out some of the excess noise around the plant."
   ]
  },
  {
   "cell_type": "code",
   "execution_count": null,
   "id": "15da533c",
   "metadata": {},
   "outputs": [],
   "source": [
    "# Inputs:\n",
    "#   img = image\n",
    "#   x   = leftmost x coordinate of ROI\n",
    "#   y   = topmost y coordinate of ROI\n",
    "#   h   = height of ROI\n",
    "#   w   = width of ROI\n",
    "roi_contour, roi_hierarchy = pcv.roi.rectangle(img=img, x=0, y=900, h=2168, w=3500)"
   ]
  },
  {
   "cell_type": "code",
   "execution_count": null,
   "id": "c3523f44",
   "metadata": {},
   "outputs": [],
   "source": [
    "# Inputs:\n",
    "#   img            = image\n",
    "#   roi_type       = 'partial' to include objects that partially overlap with the ROI, 'cutto' to exclude any objects that \n",
    "#                     are not within the ROI, or 'largest' to keep the largest contour\n",
    "#   roi_contour    = pre-defined region of interest\n",
    "#   roi_hierarchy  = pre-defined roi hierarchy\n",
    "#   object_contour = plant object\n",
    "#   obj_hierarchy  = object hierarchy\n",
    "objects, hier, seed_mask, obj_area = pcv.roi_objects(img=img, roi_contour=roi_contour, roi_hierarchy=roi_hierarchy,\n",
    "                                                     object_contour=plant_obj, obj_hierarchy=plant_hier, roi_type='partial')"
   ]
  },
  {
   "cell_type": "markdown",
   "id": "fc612c68",
   "metadata": {},
   "source": [
    "# Part 2: Detect disks \n",
    "\n",
    "In this case, detecting disks how to identify camilina seeds and label them in a way that can be annotated downstream in the workflow. "
   ]
  },
  {
   "cell_type": "code",
   "execution_count": null,
   "id": "f801c4cd",
   "metadata": {},
   "outputs": [],
   "source": [
    "# Inputs:\n",
    "#   bin_img        = binary mask image\n",
    "#   ecc_thresh     = eccentricity threshold below which a region is detected\n",
    "discs_mask, discs_coor = pcv.detect_discs(bin_img=seed_mask, ecc_thresh=0.9)"
   ]
  },
  {
   "cell_type": "markdown",
   "id": "a399ff97",
   "metadata": {},
   "source": [
    "We can visualize the contents of the disc coordinates output from this function. "
   ]
  },
  {
   "cell_type": "code",
   "execution_count": null,
   "id": "ad062374",
   "metadata": {},
   "outputs": [],
   "source": [
    "print(discs_coor)"
   ]
  },
  {
   "cell_type": "markdown",
   "id": "fd854a9d",
   "metadata": {},
   "source": [
    "# Part 3: Click count \n",
    "\n",
    "Using the `ClickCount` class from PlantCV we can interactively annotate the seeds identified in the disc detection step. "
   ]
  },
  {
   "cell_type": "code",
   "execution_count": null,
   "id": "ac6a669b",
   "metadata": {},
   "outputs": [],
   "source": [
    "# Initialization\n",
    "seed_counter = pcv.visualize.ClickCount(img=img)\n",
    "# Import coordinates (if available, you can also populate all annotations by hand optionally)\n",
    "seed_counter.import_coords(coords=discs_coor, label=\"total\")"
   ]
  },
  {
   "cell_type": "code",
   "execution_count": null,
   "id": "ecdf9a86",
   "metadata": {},
   "outputs": [],
   "source": [
    "# View \"total\" class and update annotations if desired \n",
    "\n",
    "seed_counter.view(label=\"total\", color=\"c\", view_all=True)"
   ]
  },
  {
   "cell_type": "markdown",
   "id": "fa290c6c",
   "metadata": {},
   "source": [
    "Notice one rogue object detected on the right hand side and two at the upper left that need to be deselected. No seeds are unaccounted for which is good! "
   ]
  },
  {
   "cell_type": "code",
   "execution_count": null,
   "id": "d8200756",
   "metadata": {},
   "outputs": [],
   "source": [
    "# Save out coordinates of seeds \n",
    "seed_counter.save_coords(coord_file=\"example_seed_coords.json\")"
   ]
  }
 ],
 "metadata": {
  "kernelspec": {
   "display_name": "Python [conda env:plantcv] *",
   "language": "python",
   "name": "conda-env-plantcv-py"
  },
  "language_info": {
   "codemirror_mode": {
    "name": "ipython",
    "version": 3
   },
   "file_extension": ".py",
   "mimetype": "text/x-python",
   "name": "python",
   "nbconvert_exporter": "python",
   "pygments_lexer": "ipython3",
   "version": "3.8.10"
  }
 },
 "nbformat": 4,
 "nbformat_minor": 5
}
