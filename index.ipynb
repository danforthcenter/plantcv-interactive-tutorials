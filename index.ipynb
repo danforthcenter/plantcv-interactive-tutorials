{
 "cells": [
  {
   "cell_type": "markdown",
   "id": "f4acb163-0fa9-45c3-9c53-22306c4e7ccd",
   "metadata": {},
   "source": [
    "# De novo homology assessment from landmark data\n",
    "\n",
    "This is an introduction to morphometric analysis in PlantCV using a pseudo-landmarking approach.\n",
    "\n",
    "Links to tutorials 1–4 are included below."
   ]
  },
  {
   "cell_type": "markdown",
   "id": "acc7b76a-ea72-4505-acae-35fa3578121e",
   "metadata": {},
   "source": [
    "## Tutorials\n",
    "\n",
    "* [Tutorial 1](acute_plm_tutorial_1.ipynb): identify pseudo-landmarks\n",
    "* [Tutorial 2](acute_plm_tutorial_2.ipynb): batch processing images to find pseudo-landmarks\n",
    "* [Tutorial 3](acute_plm_tutorial_3.ipynb): multivariate analysis of pseudo-landmarks and homology grouping\n",
    "* [Tutorial 4](acute_plm_tutorial_4.ipynb): batch processing of a time series to identify homologous pseudo-landmarks"
   ]
  },
  {
   "cell_type": "code",
   "execution_count": null,
   "id": "1188b8d4-9106-443d-ac39-6df907443a8d",
   "metadata": {},
   "outputs": [],
   "source": []
  }
 ],
 "metadata": {
  "kernelspec": {
   "display_name": "Python 3",
   "language": "python",
   "name": "python3"
  },
  "language_info": {
   "codemirror_mode": {
    "name": "ipython",
    "version": 3
   },
   "file_extension": ".py",
   "mimetype": "text/x-python",
   "name": "python",
   "nbconvert_exporter": "python",
   "pygments_lexer": "ipython3",
   "version": "3.7.10"
  }
 },
 "nbformat": 4,
 "nbformat_minor": 5
}
